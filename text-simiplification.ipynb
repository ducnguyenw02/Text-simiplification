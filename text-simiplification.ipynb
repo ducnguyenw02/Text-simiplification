{
 "cells": [
  {
   "cell_type": "code",
   "execution_count": 63,
   "metadata": {},
   "outputs": [],
   "source": [
    "import os\n",
    "import numpy as np \n",
    "import pandas as pd\n",
    "\n",
    "data_dir = \"D:/Github/Text-simiplification/data/\""
   ]
  },
  {
   "cell_type": "code",
   "execution_count": 64,
   "metadata": {},
   "outputs": [
    {
     "data": {
      "text/plain": [
       "['D:/Github/Text-simiplification/data/data.txt']"
      ]
     },
     "execution_count": 64,
     "metadata": {},
     "output_type": "execute_result"
    }
   ],
   "source": [
    "import os\n",
    "filenames = [data_dir + filename for filename in os.listdir(data_dir)]\n",
    "filenames"
   ]
  },
  {
   "cell_type": "code",
   "execution_count": 65,
   "metadata": {},
   "outputs": [],
   "source": [
    "# Đọc từng dòng trong file \n",
    "def get_lines(filename):\n",
    "  with open(filename, \"r\", encoding=\"utf8\") as f:\n",
    "    return f.readlines()"
   ]
  },
  {
   "cell_type": "code",
   "execution_count": 66,
   "metadata": {},
   "outputs": [
    {
     "data": {
      "text/plain": [
       "['The traditional etymology is from the Latin aperire, \"to open,\" in allusion to its being the season when trees and flowers begin to \"open\".\\n',\n",
       " 'The name April comes from that Latin word aperire which means \"to open\".\\n',\n",
       " 'This probably refers to growing plants in spring.\\n',\n",
       " '\\n',\n",
       " 'April is the fourth month of the year in the Gregorian Calendar, and one of four months with a length of 30 days.\\n',\n",
       " 'April is the fourth month of the year with 30 days.\\n',\n",
       " '\\n',\n",
       " 'The birthstone of April is the diamond, and the birth flower is typically listed as either the Daisy or the Sweet Pea.\\n',\n",
       " \"April's flower is the Sweet Pea and its birthstone is the Diamond.\\n\",\n",
       " '\\n']"
      ]
     },
     "execution_count": 66,
     "metadata": {},
     "output_type": "execute_result"
    }
   ],
   "source": [
    "data_lines = get_lines(data_dir+\"data.txt\")\n",
    "\n",
    "data_lines[:10]"
   ]
  },
  {
   "cell_type": "code",
   "execution_count": null,
   "metadata": {},
   "outputs": [],
   "source": []
  },
  {
   "cell_type": "code",
   "execution_count": null,
   "metadata": {},
   "outputs": [],
   "source": []
  },
  {
   "cell_type": "code",
   "execution_count": null,
   "metadata": {},
   "outputs": [],
   "source": []
  },
  {
   "cell_type": "code",
   "execution_count": null,
   "metadata": {},
   "outputs": [],
   "source": []
  },
  {
   "cell_type": "code",
   "execution_count": null,
   "metadata": {},
   "outputs": [],
   "source": []
  }
 ],
 "metadata": {
  "kernelspec": {
   "display_name": "Python 3.10.6 ('datascientist')",
   "language": "python",
   "name": "python3"
  },
  "language_info": {
   "codemirror_mode": {
    "name": "ipython",
    "version": 3
   },
   "file_extension": ".py",
   "mimetype": "text/x-python",
   "name": "python",
   "nbconvert_exporter": "python",
   "pygments_lexer": "ipython3",
   "version": "3.10.6"
  },
  "orig_nbformat": 4,
  "vscode": {
   "interpreter": {
    "hash": "358d40ec2f2cc68ab5357082d6615061de9f031093914720f986ca5de29e1ecf"
   }
  }
 },
 "nbformat": 4,
 "nbformat_minor": 2
}
